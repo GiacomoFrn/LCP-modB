{
 "cells": [
  {
   "cell_type": "markdown",
   "source": "## 2) Implement a “grid search”\n\nInvestigate the follow parameters:\n\n- activation units (sigmoid, relu, elu, etc.),\n\n- different minimization algorithms (ADAM, RMSprop, Nesterov, etc.),\n\n- different dropouts\n\n- batch normalization\n\n- different size or number of layers",
   "metadata": {
    "cell_id": "19ced499-e215-408e-8b4c-62796e429fd3",
    "tags": [],
    "deepnote_cell_type": "markdown",
    "deepnote_cell_height": 260.390625
   }
  },
  {
   "cell_type": "code",
   "metadata": {
    "tags": [],
    "cell_id": "5de40bb9-8ea9-4d66-aad2-56e066a5dc07",
    "deepnote_to_be_reexecuted": false,
    "source_hash": "bc51216e",
    "execution_start": 1646824038467,
    "execution_millis": 95,
    "deepnote_cell_type": "code",
    "deepnote_cell_height": 276
   },
   "source": "import tensorflow        as tf\nimport numpy             as np\nimport matplotlib.pyplot as plt\n\n%load_ext autoreload\n%autoreload 1\n%aimport nn_model\n%aimport create_data\n%aimport preprocess",
   "execution_count": null,
   "outputs": [
    {
     "name": "stdout",
     "text": "The autoreload extension is already loaded. To reload it, use:\n  %reload_ext autoreload\n",
     "output_type": "stream"
    }
   ]
  },
  {
   "cell_type": "code",
   "metadata": {
    "cell_id": "4f34e53d-5e8c-4f93-8bb5-ffdbed8f0043",
    "tags": [],
    "deepnote_to_be_reexecuted": false,
    "source_hash": "de35829e",
    "execution_start": 1646819308706,
    "execution_millis": 61,
    "deepnote_cell_type": "code",
    "deepnote_cell_height": 118.1875,
    "deepnote_output_heights": [
     21.1875
    ]
   },
   "source": "tf.__version__",
   "execution_count": null,
   "outputs": [
    {
     "output_type": "execute_result",
     "execution_count": 12,
     "data": {
      "text/plain": "'2.8.0'"
     },
     "metadata": {}
    }
   ]
  },
  {
   "cell_type": "code",
   "metadata": {
    "cell_id": "f83a186b-893b-4d6e-8c6b-497d9a8ae1de",
    "tags": [],
    "deepnote_to_be_reexecuted": false,
    "source_hash": "2cbdfda",
    "execution_start": 1646818626287,
    "execution_millis": 18,
    "deepnote_cell_type": "code",
    "deepnote_cell_height": 351
   },
   "source": "# number of data\nN = 5000\n# box size\nB = 100\n\n# random seed for reproducibility\nnp.random.seed(20220308)\n\nx = create_data.sample_data(N, B)\ny = create_data.assign_label(x)\n\nmean = np.mean(x, axis=0)\nstd = np.std(x, axis=0)\n\n# re-scaling data \nx_scaled = preprocess.standardize(x, mean, std)",
   "execution_count": null,
   "outputs": []
  },
  {
   "cell_type": "code",
   "metadata": {
    "cell_id": "dadee93d-9ed3-48b9-9db7-ae5cdcb14f51",
    "tags": [],
    "deepnote_to_be_reexecuted": false,
    "source_hash": "c9f783c3",
    "execution_start": 1646818631940,
    "execution_millis": 14,
    "deepnote_cell_type": "code",
    "deepnote_cell_height": 444
   },
   "source": "train_frac = 0.7\n\nN_train = int(N*train_frac)\n\ntraining_data, training_labels = np.copy(x_scaled[0:N_train]), np.copy(y[0:N_train])\ntest_data,     test_labels     = np.copy(x_scaled[N_train:]),  np.copy(y[N_train:])\n\nprint(f\"Traing set :\\t{training_data.shape[0]}\\nTest set  :\\t{test_data.shape[0]}\")\n\nN_valid = 500\n\nx_train, y_train = np.copy(training_data[N_valid:]),  np.copy(training_labels[N_valid:])\nx_valid, y_valid = np.copy(training_data[0:N_valid]), np.copy(training_labels[0:N_valid])\n\nprint(f\"\\nN_train :\\t{x_train.shape[0]} \\nN_valid :\\t{x_valid.shape[0]}\")",
   "execution_count": null,
   "outputs": [
    {
     "name": "stdout",
     "text": "Traing set :\t3500\nTest set  :\t1500\n\nN_train :\t3000 \nN_valid :\t500\n",
     "output_type": "stream"
    }
   ]
  },
  {
   "cell_type": "code",
   "metadata": {
    "cell_id": "a8fea548-d3a9-4aa9-8cd8-d864b0346d47",
    "tags": [],
    "deepnote_to_be_reexecuted": false,
    "source_hash": "22a6d738",
    "execution_start": 1646819653012,
    "execution_millis": 0,
    "deepnote_cell_type": "code",
    "deepnote_cell_height": 801
   },
   "source": "from sklearn.model_selection import GridSearchCV\nfrom keras.wrappers.scikit_learn import KerasClassifier\n\ndef create_model(\n    n_features,\n    neurons           = [20, 20, 1],\n    dropout_arc       = [1],\n    dropout_rates     = [0.2],\n    batch_norm_arc    = [2],\n    hidden_activation = \"relu\",\n    output_activation = \"sigmoid\",\n    name              = \"my lovely neural network\",\n    loss              = \"binary_crossentropy\",\n    optimizer         = \"adam\",\n    metrics           = [\"accuracy\"]\n):\n    # initialize architecture\n    architecture = [n_features] + neurons\n    input_dim    = n_features\n\n    # create model\n    network = nn_model.NN(\n        input_dim         = input_dim,\n        architecture      = architecture,\n        dropout_layers    = dropout_arc,\n        dropout_rates     = dropout_rates,\n        batch_norm_layers = batch_norm_arc,\n        hidden_activation = hidden_activation,\n        output_activation = output_activation,\n        nn_name           = name\n    ) \n\n    # solves the \"Model cannot be saved\" issue\n    network.compute_output_shape((None, input_dim))   \n    \n    network.compile(\n        loss      = loss,\n        optimizer = optimizer,\n        metrics   = metrics,\n    )\n    return network",
   "execution_count": null,
   "outputs": []
  },
  {
   "cell_type": "code",
   "metadata": {
    "cell_id": "c026f079-e699-4836-9ab7-f4170723ee33",
    "tags": [],
    "deepnote_to_be_reexecuted": false,
    "source_hash": "941a652d",
    "execution_start": 1646824070152,
    "execution_millis": 2,
    "deepnote_cell_type": "code",
    "deepnote_cell_height": 208.796875
   },
   "source": "minibatch = 100\nN_epochs  = 300\n\nmodel_gridsearch = KerasClassifier(build_fn=create_model, n_features=x.shape[0], epochs=N_epochs, batch_size=minibatch, \n                                   validation_data = (x_valid, y_valid))",
   "execution_count": null,
   "outputs": [
    {
     "name": "stderr",
     "text": "/shared-libs/python3.7/py-core/lib/python3.7/site-packages/ipykernel_launcher.py:5: DeprecationWarning: KerasClassifier is deprecated, use Sci-Keras (https://github.com/adriangb/scikeras) instead. See https://www.adriangb.com/scikeras/stable/migration.html for help migrating.\n  \"\"\"\n",
     "output_type": "stream"
    }
   ]
  },
  {
   "cell_type": "code",
   "metadata": {
    "cell_id": "5b1fffaf-ba27-4fb4-89c5-2354fe2120df",
    "tags": [],
    "deepnote_to_be_reexecuted": false,
    "source_hash": "959b2b30",
    "execution_start": 1646824075597,
    "execution_millis": 2987,
    "deepnote_cell_type": "code",
    "deepnote_cell_height": 1519.59375,
    "deepnote_output_heights": [
     null,
     606.1875
    ]
   },
   "source": "# list of allowed optional arguments for the optimizer, see `compile_model()`\noptimizer = ['SGD', 'RMSprop', 'Adagrad', 'Adadelta', 'Adam', 'Adamax', 'Nadam']\n# define parameter dictionary\nparam_grid = dict(optimizer=optimizer)\nparam_grid = {\"epochs\": [100, 200]}\n# call scikit grid search module\ngrid = GridSearchCV(estimator=model_gridsearch, param_grid=param_grid, n_jobs=1, cv=4)\ngrid_result = grid.fit(x_train,y_train)",
   "execution_count": null,
   "outputs": [
    {
     "name": "stdout",
     "text": "Epoch 1/100\nEpoch 1/100\nEpoch 1/100\nEpoch 1/100\nEpoch 1/200\nEpoch 1/200\nEpoch 1/200\nEpoch 1/200\nEpoch 1/100\n/shared-libs/python3.7/py/lib/python3.7/site-packages/sklearn/model_selection/_validation.py:372: FitFailedWarning: \n8 fits failed out of a total of 8.\nThe score on these train-test partitions for these parameters will be set to nan.\nIf these failures are not expected, you can try to debug them by setting error_score='raise'.\n\nBelow are more details about the failures:\n--------------------------------------------------------------------------------\n1 fits failed with the following error:\nTraceback (most recent call last):\n  File \"/shared-libs/python3.7/py/lib/python3.7/site-packages/sklearn/model_selection/_validation.py\", line 680, in _fit_and_score\n    estimator.fit(X_train, y_train, **fit_params)\n  File \"/shared-libs/python3.7/py/lib/python3.7/site-packages/keras/wrappers/scikit_learn.py\", line 236, in fit\n    return super(KerasClassifier, self).fit(x, y, **kwargs)\n  File \"/shared-libs/python3.7/py/lib/python3.7/site-packages/keras/wrappers/scikit_learn.py\", line 164, in fit\n    history = self.model.fit(x, y, **fit_args)\n  File \"/shared-libs/python3.7/py/lib/python3.7/site-packages/keras/utils/traceback_utils.py\", line 67, in error_handler\n    raise e.with_traceback(filtered_tb) from None\n  File \"/shared-libs/python3.7/py/lib/python3.7/site-packages/tensorflow/python/framework/func_graph.py\", line 1147, in autograph_handler\n    raise e.ag_error_metadata.to_exception(e)\nValueError: in user code:\n\n    File \"/shared-libs/python3.7/py/lib/python3.7/site-packages/keras/engine/training.py\", line 1021, in train_function  *\n        return step_function(self, iterator)\n    File \"/shared-libs/python3.7/py/lib/python3.7/site-packages/keras/engine/training.py\", line 1010, in step_function  **\n        outputs = model.distribute_strategy.run(run_step, args=(data,))\n    File \"/shared-libs/python3.7/py/lib/python3.7/site-packages/keras/engine/training.py\", line 1000, in run_step  **\n        outputs = model.train_step(data)\n    File \"/shared-libs/python3.7/py/lib/python3.7/site-packages/keras/engine/training.py\", line 859, in train_step\n        y_pred = self(x, training=True)\n    File \"/shared-libs/python3.7/py/lib/python3.7/site-packages/keras/utils/traceback_utils.py\", line 67, in error_handler\n        raise e.with_traceback(filtered_tb) from None\n\n    ValueError: Exception encountered when calling layer \"nn_4\" (type NN).\n    \n    in user code:\n    \n        File \"/work/LCP_modB/02-DNN/nn_model.py\", line 120, in call  *\n            x = hidden_layer(x)\n        File \"/shared-libs/python3.7/py/lib/python3.7/site-packages/keras/utils/traceback_utils.py\", line 67, in error_handler  **\n            raise e.with_traceback(filtered_tb) from None\n        File \"/shared-libs/python3.7/py/lib/python3.7/site-packages/keras/engine/input_spec.py\", line 249, in assert_input_compatibility\n            f'Input {input_index} of layer \"{layer_name}\" is '\n    \n        ValueError: Input 0 of layer \"hidden_0\" is incompatible with the layer: expected axis -1 of input shape to have value 5000, but received input with shape (None, 2)\n    \n    \n    Call arguments received:\n      • x=tf.Tensor(shape=(None, 2), dtype=float32)\n\n\n--------------------------------------------------------------------------------\n1 fits failed with the following error:\nTraceback (most recent call last):\n  File \"/shared-libs/python3.7/py/lib/python3.7/site-packages/sklearn/model_selection/_validation.py\", line 680, in _fit_and_score\n    estimator.fit(X_train, y_train, **fit_params)\n  File \"/shared-libs/python3.7/py/lib/python3.7/site-packages/keras/wrappers/scikit_learn.py\", line 236, in fit\n    return super(KerasClassifier, self).fit(x, y, **kwargs)\n  File \"/shared-libs/python3.7/py/lib/python3.7/site-packages/keras/wrappers/scikit_learn.py\", line 164, in fit\n    history = self.model.fit(x, y, **fit_args)\n  File \"/shared-libs/python3.7/py/lib/python3.7/site-packages/keras/utils/traceback_utils.py\", line 67, in error_handler\n    raise e.with_traceback(filtered_tb) from None\n  File \"/shared-libs/python3.7/py/lib/python3.7/site-packages/tensorflow/python/framework/func_graph.py\", line 1147, in autograph_handler\n    raise e.ag_error_metadata.to_exception(e)\nValueError: in user code:\n\n    File \"/shared-libs/python3.7/py/lib/python3.7/site-packages/keras/engine/training.py\", line 1021, in train_function  *\n        return step_function(self, iterator)\n    File \"/shared-libs/python3.7/py/lib/python3.7/site-packages/keras/engine/training.py\", line 1010, in step_function  **\n        outputs = model.distribute_strategy.run(run_step, args=(data,))\n    File \"/shared-libs/python3.7/py/lib/python3.7/site-packages/keras/engine/training.py\", line 1000, in run_step  **\n        outputs = model.train_step(data)\n    File \"/shared-libs/python3.7/py/lib/python3.7/site-packages/keras/engine/training.py\", line 859, in train_step\n        y_pred = self(x, training=True)\n    File \"/shared-libs/python3.7/py/lib/python3.7/site-packages/keras/utils/traceback_utils.py\", line 67, in error_handler\n        raise e.with_traceback(filtered_tb) from None\n\n    ValueError: Exception encountered when calling layer \"nn_5\" (type NN).\n    \n    in user code:\n    \n        File \"/work/LCP_modB/02-DNN/nn_model.py\", line 120, in call  *\n            x = hidden_layer(x)\n        File \"/shared-libs/python3.7/py/lib/python3.7/site-packages/keras/utils/traceback_utils.py\", line 67, in error_handler  **\n            raise e.with_traceback(filtered_tb) from None\n        File \"/shared-libs/python3.7/py/lib/python3.7/site-packages/keras/engine/input_spec.py\", line 249, in assert_input_compatibility\n            f'Input {input_index} of layer \"{layer_name}\" is '\n    \n        ValueError: Input 0 of layer \"hidden_0\" is incompatible with the layer: expected axis -1 of input shape to have value 5000, but received input with shape (None, 2)\n    \n    \n    Call arguments received:\n      • x=tf.Tensor(shape=(None, 2), dtype=float32)\n\n\n--------------------------------------------------------------------------------\n1 fits failed with the following error:\nTraceback (most recent call last):\n  File \"/shared-libs/python3.7/py/lib/python3.7/site-packages/sklearn/model_selection/_validation.py\", line 680, in _fit_and_score\n    estimator.fit(X_train, y_train, **fit_params)\n  File \"/shared-libs/python3.7/py/lib/python3.7/site-packages/keras/wrappers/scikit_learn.py\", line 236, in fit\n    return super(KerasClassifier, self).fit(x, y, **kwargs)\n  File \"/shared-libs/python3.7/py/lib/python3.7/site-packages/keras/wrappers/scikit_learn.py\", line 164, in fit\n    history = self.model.fit(x, y, **fit_args)\n  File \"/shared-libs/python3.7/py/lib/python3.7/site-packages/keras/utils/traceback_utils.py\", line 67, in error_handler\n    raise e.with_traceback(filtered_tb) from None\n  File \"/shared-libs/python3.7/py/lib/python3.7/site-packages/tensorflow/python/framework/func_graph.py\", line 1147, in autograph_handler\n    raise e.ag_error_metadata.to_exception(e)\nValueError: in user code:\n\n    File \"/shared-libs/python3.7/py/lib/python3.7/site-packages/keras/engine/training.py\", line 1021, in train_function  *\n        return step_function(self, iterator)\n    File \"/shared-libs/python3.7/py/lib/python3.7/site-packages/keras/engine/training.py\", line 1010, in step_function  **\n        outputs = model.distribute_strategy.run(run_step, args=(data,))\n    File \"/shared-libs/python3.7/py/lib/python3.7/site-packages/keras/engine/training.py\", line 1000, in run_step  **\n        outputs = model.train_step(data)\n    File \"/shared-libs/python3.7/py/lib/python3.7/site-packages/keras/engine/training.py\", line 859, in train_step\n        y_pred = self(x, training=True)\n    File \"/shared-libs/python3.7/py/lib/python3.7/site-packages/keras/utils/traceback_utils.py\", line 67, in error_handler\n        raise e.with_traceback(filtered_tb) from None\n\n    ValueError: Exception encountered when calling layer \"nn_6\" (type NN).\n    \n    in user code:\n    \n        File \"/work/LCP_modB/02-DNN/nn_model.py\", line 120, in call  *\n            x = hidden_layer(x)\n        File \"/shared-libs/python3.7/py/lib/python3.7/site-packages/keras/utils/traceback_utils.py\", line 67, in error_handler  **\n            raise e.with_traceback(filtered_tb) from None\n        File \"/shared-libs/python3.7/py/lib/python3.7/site-packages/keras/engine/input_spec.py\", line 249, in assert_input_compatibility\n            f'Input {input_index} of layer \"{layer_name}\" is '\n    \n        ValueError: Input 0 of layer \"hidden_0\" is incompatible with the layer: expected axis -1 of input shape to have value 5000, but received input with shape (None, 2)\n    \n    \n    Call arguments received:\n      • x=tf.Tensor(shape=(None, 2), dtype=float32)\n\n\n--------------------------------------------------------------------------------\n1 fits failed with the following error:\nTraceback (most recent call last):\n  File \"/shared-libs/python3.7/py/lib/python3.7/site-packages/sklearn/model_selection/_validation.py\", line 680, in _fit_and_score\n    estimator.fit(X_train, y_train, **fit_params)\n  File \"/shared-libs/python3.7/py/lib/python3.7/site-packages/keras/wrappers/scikit_learn.py\", line 236, in fit\n    return super(KerasClassifier, self).fit(x, y, **kwargs)\n  File \"/shared-libs/python3.7/py/lib/python3.7/site-packages/keras/wrappers/scikit_learn.py\", line 164, in fit\n    history = self.model.fit(x, y, **fit_args)\n  File \"/shared-libs/python3.7/py/lib/python3.7/site-packages/keras/utils/traceback_utils.py\", line 67, in error_handler\n    raise e.with_traceback(filtered_tb) from None\n  File \"/shared-libs/python3.7/py/lib/python3.7/site-packages/tensorflow/python/framework/func_graph.py\", line 1147, in autograph_handler\n    raise e.ag_error_metadata.to_exception(e)\nValueError: in user code:\n\n    File \"/shared-libs/python3.7/py/lib/python3.7/site-packages/keras/engine/training.py\", line 1021, in train_function  *\n        return step_function(self, iterator)\n    File \"/shared-libs/python3.7/py/lib/python3.7/site-packages/keras/engine/training.py\", line 1010, in step_function  **\n        outputs = model.distribute_strategy.run(run_step, args=(data,))\n    File \"/shared-libs/python3.7/py/lib/python3.7/site-packages/keras/engine/training.py\", line 1000, in run_step  **\n        outputs = model.train_step(data)\n    File \"/shared-libs/python3.7/py/lib/python3.7/site-packages/keras/engine/training.py\", line 859, in train_step\n        y_pred = self(x, training=True)\n    File \"/shared-libs/python3.7/py/lib/python3.7/site-packages/keras/utils/traceback_utils.py\", line 67, in error_handler\n        raise e.with_traceback(filtered_tb) from None\n\n    ValueError: Exception encountered when calling layer \"nn_7\" (type NN).\n    \n    in user code:\n    \n        File \"/work/LCP_modB/02-DNN/nn_model.py\", line 120, in call  *\n            x = hidden_layer(x)\n        File \"/shared-libs/python3.7/py/lib/python3.7/site-packages/keras/utils/traceback_utils.py\", line 67, in error_handler  **\n            raise e.with_traceback(filtered_tb) from None\n        File \"/shared-libs/python3.7/py/lib/python3.7/site-packages/keras/engine/input_spec.py\", line 249, in assert_input_compatibility\n            f'Input {input_index} of layer \"{layer_name}\" is '\n    \n        ValueError: Input 0 of layer \"hidden_0\" is incompatible with the layer: expected axis -1 of input shape to have value 5000, but received input with shape (None, 2)\n    \n    \n    Call arguments received:\n      • x=tf.Tensor(shape=(None, 2), dtype=float32)\n\n\n--------------------------------------------------------------------------------\n1 fits failed with the following error:\nTraceback (most recent call last):\n  File \"/shared-libs/python3.7/py/lib/python3.7/site-packages/sklearn/model_selection/_validation.py\", line 680, in _fit_and_score\n    estimator.fit(X_train, y_train, **fit_params)\n  File \"/shared-libs/python3.7/py/lib/python3.7/site-packages/keras/wrappers/scikit_learn.py\", line 236, in fit\n    return super(KerasClassifier, self).fit(x, y, **kwargs)\n  File \"/shared-libs/python3.7/py/lib/python3.7/site-packages/keras/wrappers/scikit_learn.py\", line 164, in fit\n    history = self.model.fit(x, y, **fit_args)\n  File \"/shared-libs/python3.7/py/lib/python3.7/site-packages/keras/utils/traceback_utils.py\", line 67, in error_handler\n    raise e.with_traceback(filtered_tb) from None\n  File \"/shared-libs/python3.7/py/lib/python3.7/site-packages/tensorflow/python/framework/func_graph.py\", line 1147, in autograph_handler\n    raise e.ag_error_metadata.to_exception(e)\nValueError: in user code:\n\n    File \"/shared-libs/python3.7/py/lib/python3.7/site-packages/keras/engine/training.py\", line 1021, in train_function  *\n        return step_function(self, iterator)\n    File \"/shared-libs/python3.7/py/lib/python3.7/site-packages/keras/engine/training.py\", line 1010, in step_function  **\n        outputs = model.distribute_strategy.run(run_step, args=(data,))\n    File \"/shared-libs/python3.7/py/lib/python3.7/site-packages/keras/engine/training.py\", line 1000, in run_step  **\n        outputs = model.train_step(data)\n    File \"/shared-libs/python3.7/py/lib/python3.7/site-packages/keras/engine/training.py\", line 859, in train_step\n        y_pred = self(x, training=True)\n    File \"/shared-libs/python3.7/py/lib/python3.7/site-packages/keras/utils/traceback_utils.py\", line 67, in error_handler\n        raise e.with_traceback(filtered_tb) from None\n\n    ValueError: Exception encountered when calling layer \"nn_8\" (type NN).\n    \n    in user code:\n    \n        File \"/work/LCP_modB/02-DNN/nn_model.py\", line 120, in call  *\n            x = hidden_layer(x)\n        File \"/shared-libs/python3.7/py/lib/python3.7/site-packages/keras/utils/traceback_utils.py\", line 67, in error_handler  **\n            raise e.with_traceback(filtered_tb) from None\n        File \"/shared-libs/python3.7/py/lib/python3.7/site-packages/keras/engine/input_spec.py\", line 249, in assert_input_compatibility\n            f'Input {input_index} of layer \"{layer_name}\" is '\n    \n        ValueError: Input 0 of layer \"hidden_0\" is incompatible with the layer: expected axis -1 of input shape to have value 5000, but received input with shape (None, 2)\n    \n    \n    Call arguments received:\n      • x=tf.Tensor(shape=(None, 2), dtype=float32)\n\n\n--------------------------------------------------------------------------------\n1 fits failed with the following error:\nTraceback (most recent call last):\n  File \"/shared-libs/python3.7/py/lib/python3.7/site-packages/sklearn/model_selection/_validation.py\", line 680, in _fit_and_score\n    estimator.fit(X_train, y_train, **fit_params)\n  File \"/shared-libs/python3.7/py/lib/python3.7/site-packages/keras/wrappers/scikit_learn.py\", line 236, in fit\n    return super(KerasClassifier, self).fit(x, y, **kwargs)\n  File \"/shared-libs/python3.7/py/lib/python3.7/site-packages/keras/wrappers/scikit_learn.py\", line 164, in fit\n    history = self.model.fit(x, y, **fit_args)\n  File \"/shared-libs/python3.7/py/lib/python3.7/site-packages/keras/utils/traceback_utils.py\", line 67, in error_handler\n    raise e.with_traceback(filtered_tb) from None\n  File \"/shared-libs/python3.7/py/lib/python3.7/site-packages/tensorflow/python/framework/func_graph.py\", line 1147, in autograph_handler\n    raise e.ag_error_metadata.to_exception(e)\nValueError: in user code:\n\n    File \"/shared-libs/python3.7/py/lib/python3.7/site-packages/keras/engine/training.py\", line 1021, in train_function  *\n        return step_function(self, iterator)\n    File \"/shared-libs/python3.7/py/lib/python3.7/site-packages/keras/engine/training.py\", line 1010, in step_function  **\n        outputs = model.distribute_strategy.run(run_step, args=(data,))\n    File \"/shared-libs/python3.7/py/lib/python3.7/site-packages/keras/engine/training.py\", line 1000, in run_step  **\n        outputs = model.train_step(data)\n    File \"/shared-libs/python3.7/py/lib/python3.7/site-packages/keras/engine/training.py\", line 859, in train_step\n        y_pred = self(x, training=True)\n    File \"/shared-libs/python3.7/py/lib/python3.7/site-packages/keras/utils/traceback_utils.py\", line 67, in error_handler\n        raise e.with_traceback(filtered_tb) from None\n\n    ValueError: Exception encountered when calling layer \"nn_9\" (type NN).\n    \n    in user code:\n    \n        File \"/work/LCP_modB/02-DNN/nn_model.py\", line 120, in call  *\n            x = hidden_layer(x)\n        File \"/shared-libs/python3.7/py/lib/python3.7/site-packages/keras/utils/traceback_utils.py\", line 67, in error_handler  **\n            raise e.with_traceback(filtered_tb) from None\n        File \"/shared-libs/python3.7/py/lib/python3.7/site-packages/keras/engine/input_spec.py\", line 249, in assert_input_compatibility\n            f'Input {input_index} of layer \"{layer_name}\" is '\n    \n        ValueError: Input 0 of layer \"hidden_0\" is incompatible with the layer: expected axis -1 of input shape to have value 5000, but received input with shape (None, 2)\n    \n    \n    Call arguments received:\n      • x=tf.Tensor(shape=(None, 2), dtype=float32)\n\n\n--------------------------------------------------------------------------------\n1 fits failed with the following error:\nTraceback (most recent call last):\n  File \"/shared-libs/python3.7/py/lib/python3.7/site-packages/sklearn/model_selection/_validation.py\", line 680, in _fit_and_score\n    estimator.fit(X_train, y_train, **fit_params)\n  File \"/shared-libs/python3.7/py/lib/python3.7/site-packages/keras/wrappers/scikit_learn.py\", line 236, in fit\n    return super(KerasClassifier, self).fit(x, y, **kwargs)\n  File \"/shared-libs/python3.7/py/lib/python3.7/site-packages/keras/wrappers/scikit_learn.py\", line 164, in fit\n    history = self.model.fit(x, y, **fit_args)\n  File \"/shared-libs/python3.7/py/lib/python3.7/site-packages/keras/utils/traceback_utils.py\", line 67, in error_handler\n    raise e.with_traceback(filtered_tb) from None\n  File \"/shared-libs/python3.7/py/lib/python3.7/site-packages/tensorflow/python/framework/func_graph.py\", line 1147, in autograph_handler\n    raise e.ag_error_metadata.to_exception(e)\nValueError: in user code:\n\n    File \"/shared-libs/python3.7/py/lib/python3.7/site-packages/keras/engine/training.py\", line 1021, in train_function  *\n        return step_function(self, iterator)\n    File \"/shared-libs/python3.7/py/lib/python3.7/site-packages/keras/engine/training.py\", line 1010, in step_function  **\n        outputs = model.distribute_strategy.run(run_step, args=(data,))\n    File \"/shared-libs/python3.7/py/lib/python3.7/site-packages/keras/engine/training.py\", line 1000, in run_step  **\n        outputs = model.train_step(data)\n    File \"/shared-libs/python3.7/py/lib/python3.7/site-packages/keras/engine/training.py\", line 859, in train_step\n        y_pred = self(x, training=True)\n    File \"/shared-libs/python3.7/py/lib/python3.7/site-packages/keras/utils/traceback_utils.py\", line 67, in error_handler\n        raise e.with_traceback(filtered_tb) from None\n\n    ValueError: Exception encountered when calling layer \"nn_10\" (type NN).\n    \n    in user code:\n    \n        File \"/work/LCP_modB/02-DNN/nn_model.py\", line 120, in call  *\n            x = hidden_layer(x)\n        File \"/shared-libs/python3.7/py/lib/python3.7/site-packages/keras/utils/traceback_utils.py\", line 67, in error_handler  **\n            raise e.with_traceback(filtered_tb) from None\n        File \"/shared-libs/python3.7/py/lib/python3.7/site-packages/keras/engine/input_spec.py\", line 249, in assert_input_compatibility\n            f'Input {input_index} of layer \"{layer_name}\" is '\n    \n        ValueError: Input 0 of layer \"hidden_0\" is incompatible with the layer: expected axis -1 of input shape to have value 5000, but received input with shape (None, 2)\n    \n    \n    Call arguments received:\n      • x=tf.Tensor(shape=(None, 2), dtype=float32)\n\n\n--------------------------------------------------------------------------------\n1 fits failed with the following error:\nTraceback (most recent call last):\n  File \"/shared-libs/python3.7/py/lib/python3.7/site-packages/sklearn/model_selection/_validation.py\", line 680, in _fit_and_score\n    estimator.fit(X_train, y_train, **fit_params)\n  File \"/shared-libs/python3.7/py/lib/python3.7/site-packages/keras/wrappers/scikit_learn.py\", line 236, in fit\n    return super(KerasClassifier, self).fit(x, y, **kwargs)\n  File \"/shared-libs/python3.7/py/lib/python3.7/site-packages/keras/wrappers/scikit_learn.py\", line 164, in fit\n    history = self.model.fit(x, y, **fit_args)\n  File \"/shared-libs/python3.7/py/lib/python3.7/site-packages/keras/utils/traceback_utils.py\", line 67, in error_handler\n    raise e.with_traceback(filtered_tb) from None\n  File \"/shared-libs/python3.7/py/lib/python3.7/site-packages/tensorflow/python/framework/func_graph.py\", line 1147, in autograph_handler\n    raise e.ag_error_metadata.to_exception(e)\nValueError: in user code:\n\n    File \"/shared-libs/python3.7/py/lib/python3.7/site-packages/keras/engine/training.py\", line 1021, in train_function  *\n        return step_function(self, iterator)\n    File \"/shared-libs/python3.7/py/lib/python3.7/site-packages/keras/engine/training.py\", line 1010, in step_function  **\n        outputs = model.distribute_strategy.run(run_step, args=(data,))\n    File \"/shared-libs/python3.7/py/lib/python3.7/site-packages/keras/engine/training.py\", line 1000, in run_step  **\n        outputs = model.train_step(data)\n    File \"/shared-libs/python3.7/py/lib/python3.7/site-packages/keras/engine/training.py\", line 859, in train_step\n        y_pred = self(x, training=True)\n    File \"/shared-libs/python3.7/py/lib/python3.7/site-packages/keras/utils/traceback_utils.py\", line 67, in error_handler\n        raise e.with_traceback(filtered_tb) from None\n\n    ValueError: Exception encountered when calling layer \"nn_11\" (type NN).\n    \n    in user code:\n    \n        File \"/work/LCP_modB/02-DNN/nn_model.py\", line 120, in call  *\n            x = hidden_layer(x)\n        File \"/shared-libs/python3.7/py/lib/python3.7/site-packages/keras/utils/traceback_utils.py\", line 67, in error_handler  **\n            raise e.with_traceback(filtered_tb) from None\n        File \"/shared-libs/python3.7/py/lib/python3.7/site-packages/keras/engine/input_spec.py\", line 249, in assert_input_compatibility\n            f'Input {input_index} of layer \"{layer_name}\" is '\n    \n        ValueError: Input 0 of layer \"hidden_0\" is incompatible with the layer: expected axis -1 of input shape to have value 5000, but received input with shape (None, 2)\n    \n    \n    Call arguments received:\n      • x=tf.Tensor(shape=(None, 2), dtype=float32)\n\n\n  warnings.warn(some_fits_failed_message, FitFailedWarning)\n/shared-libs/python3.7/py/lib/python3.7/site-packages/sklearn/model_selection/_search.py:972: UserWarning: One or more of the test scores are non-finite: [nan nan]\n  category=UserWarning,\n",
     "output_type": "stream"
    },
    {
     "output_type": "error",
     "ename": "ValueError",
     "evalue": "in user code:\n\n    File \"/shared-libs/python3.7/py/lib/python3.7/site-packages/keras/engine/training.py\", line 1021, in train_function  *\n        return step_function(self, iterator)\n    File \"/shared-libs/python3.7/py/lib/python3.7/site-packages/keras/engine/training.py\", line 1010, in step_function  **\n        outputs = model.distribute_strategy.run(run_step, args=(data,))\n    File \"/shared-libs/python3.7/py/lib/python3.7/site-packages/keras/engine/training.py\", line 1000, in run_step  **\n        outputs = model.train_step(data)\n    File \"/shared-libs/python3.7/py/lib/python3.7/site-packages/keras/engine/training.py\", line 859, in train_step\n        y_pred = self(x, training=True)\n    File \"/shared-libs/python3.7/py/lib/python3.7/site-packages/keras/utils/traceback_utils.py\", line 67, in error_handler\n        raise e.with_traceback(filtered_tb) from None\n\n    ValueError: Exception encountered when calling layer \"nn_12\" (type NN).\n    \n    in user code:\n    \n        File \"/work/LCP_modB/02-DNN/nn_model.py\", line 120, in call  *\n            x = hidden_layer(x)\n        File \"/shared-libs/python3.7/py/lib/python3.7/site-packages/keras/utils/traceback_utils.py\", line 67, in error_handler  **\n            raise e.with_traceback(filtered_tb) from None\n        File \"/shared-libs/python3.7/py/lib/python3.7/site-packages/keras/engine/input_spec.py\", line 249, in assert_input_compatibility\n            f'Input {input_index} of layer \"{layer_name}\" is '\n    \n        ValueError: Input 0 of layer \"hidden_0\" is incompatible with the layer: expected axis -1 of input shape to have value 5000, but received input with shape (100, 2)\n    \n    \n    Call arguments received:\n      • x=tf.Tensor(shape=(100, 2), dtype=float32)\n",
     "traceback": [
      "\u001b[0;31m---------------------------------------------------------------------------\u001b[0m",
      "\u001b[0;31mValueError\u001b[0m                                Traceback (most recent call last)",
      "\u001b[0;32m<ipython-input-28-f4569a5bb2af>\u001b[0m in \u001b[0;36m<module>\u001b[0;34m\u001b[0m\n\u001b[1;32m      6\u001b[0m \u001b[0;31m# call scikit grid search module\u001b[0m\u001b[0;34m\u001b[0m\u001b[0;34m\u001b[0m\u001b[0;34m\u001b[0m\u001b[0m\n\u001b[1;32m      7\u001b[0m \u001b[0mgrid\u001b[0m \u001b[0;34m=\u001b[0m \u001b[0mGridSearchCV\u001b[0m\u001b[0;34m(\u001b[0m\u001b[0mestimator\u001b[0m\u001b[0;34m=\u001b[0m\u001b[0mmodel_gridsearch\u001b[0m\u001b[0;34m,\u001b[0m \u001b[0mparam_grid\u001b[0m\u001b[0;34m=\u001b[0m\u001b[0mparam_grid\u001b[0m\u001b[0;34m,\u001b[0m \u001b[0mn_jobs\u001b[0m\u001b[0;34m=\u001b[0m\u001b[0;36m1\u001b[0m\u001b[0;34m,\u001b[0m \u001b[0mcv\u001b[0m\u001b[0;34m=\u001b[0m\u001b[0;36m4\u001b[0m\u001b[0;34m)\u001b[0m\u001b[0;34m\u001b[0m\u001b[0;34m\u001b[0m\u001b[0m\n\u001b[0;32m----> 8\u001b[0;31m \u001b[0mgrid_result\u001b[0m \u001b[0;34m=\u001b[0m \u001b[0mgrid\u001b[0m\u001b[0;34m.\u001b[0m\u001b[0mfit\u001b[0m\u001b[0;34m(\u001b[0m\u001b[0mx_train\u001b[0m\u001b[0;34m,\u001b[0m\u001b[0my_train\u001b[0m\u001b[0;34m)\u001b[0m\u001b[0;34m\u001b[0m\u001b[0;34m\u001b[0m\u001b[0m\n\u001b[0m",
      "\u001b[0;32m/shared-libs/python3.7/py/lib/python3.7/site-packages/sklearn/model_selection/_search.py\u001b[0m in \u001b[0;36mfit\u001b[0;34m(self, X, y, groups, **fit_params)\u001b[0m\n\u001b[1;32m    924\u001b[0m             \u001b[0mrefit_start_time\u001b[0m \u001b[0;34m=\u001b[0m \u001b[0mtime\u001b[0m\u001b[0;34m.\u001b[0m\u001b[0mtime\u001b[0m\u001b[0;34m(\u001b[0m\u001b[0;34m)\u001b[0m\u001b[0;34m\u001b[0m\u001b[0;34m\u001b[0m\u001b[0m\n\u001b[1;32m    925\u001b[0m             \u001b[0;32mif\u001b[0m \u001b[0my\u001b[0m \u001b[0;32mis\u001b[0m \u001b[0;32mnot\u001b[0m \u001b[0;32mNone\u001b[0m\u001b[0;34m:\u001b[0m\u001b[0;34m\u001b[0m\u001b[0;34m\u001b[0m\u001b[0m\n\u001b[0;32m--> 926\u001b[0;31m                 \u001b[0mself\u001b[0m\u001b[0;34m.\u001b[0m\u001b[0mbest_estimator_\u001b[0m\u001b[0;34m.\u001b[0m\u001b[0mfit\u001b[0m\u001b[0;34m(\u001b[0m\u001b[0mX\u001b[0m\u001b[0;34m,\u001b[0m \u001b[0my\u001b[0m\u001b[0;34m,\u001b[0m \u001b[0;34m**\u001b[0m\u001b[0mfit_params\u001b[0m\u001b[0;34m)\u001b[0m\u001b[0;34m\u001b[0m\u001b[0;34m\u001b[0m\u001b[0m\n\u001b[0m\u001b[1;32m    927\u001b[0m             \u001b[0;32melse\u001b[0m\u001b[0;34m:\u001b[0m\u001b[0;34m\u001b[0m\u001b[0;34m\u001b[0m\u001b[0m\n\u001b[1;32m    928\u001b[0m                 \u001b[0mself\u001b[0m\u001b[0;34m.\u001b[0m\u001b[0mbest_estimator_\u001b[0m\u001b[0;34m.\u001b[0m\u001b[0mfit\u001b[0m\u001b[0;34m(\u001b[0m\u001b[0mX\u001b[0m\u001b[0;34m,\u001b[0m \u001b[0;34m**\u001b[0m\u001b[0mfit_params\u001b[0m\u001b[0;34m)\u001b[0m\u001b[0;34m\u001b[0m\u001b[0;34m\u001b[0m\u001b[0m\n",
      "\u001b[0;32m/shared-libs/python3.7/py/lib/python3.7/site-packages/keras/wrappers/scikit_learn.py\u001b[0m in \u001b[0;36mfit\u001b[0;34m(self, x, y, **kwargs)\u001b[0m\n\u001b[1;32m    234\u001b[0m       \u001b[0;32mraise\u001b[0m \u001b[0mValueError\u001b[0m\u001b[0;34m(\u001b[0m\u001b[0;34m'Invalid shape for y: '\u001b[0m \u001b[0;34m+\u001b[0m \u001b[0mstr\u001b[0m\u001b[0;34m(\u001b[0m\u001b[0my\u001b[0m\u001b[0;34m.\u001b[0m\u001b[0mshape\u001b[0m\u001b[0;34m)\u001b[0m\u001b[0;34m)\u001b[0m\u001b[0;34m\u001b[0m\u001b[0;34m\u001b[0m\u001b[0m\n\u001b[1;32m    235\u001b[0m     \u001b[0mself\u001b[0m\u001b[0;34m.\u001b[0m\u001b[0mn_classes_\u001b[0m \u001b[0;34m=\u001b[0m \u001b[0mlen\u001b[0m\u001b[0;34m(\u001b[0m\u001b[0mself\u001b[0m\u001b[0;34m.\u001b[0m\u001b[0mclasses_\u001b[0m\u001b[0;34m)\u001b[0m\u001b[0;34m\u001b[0m\u001b[0;34m\u001b[0m\u001b[0m\n\u001b[0;32m--> 236\u001b[0;31m     \u001b[0;32mreturn\u001b[0m \u001b[0msuper\u001b[0m\u001b[0;34m(\u001b[0m\u001b[0mKerasClassifier\u001b[0m\u001b[0;34m,\u001b[0m \u001b[0mself\u001b[0m\u001b[0;34m)\u001b[0m\u001b[0;34m.\u001b[0m\u001b[0mfit\u001b[0m\u001b[0;34m(\u001b[0m\u001b[0mx\u001b[0m\u001b[0;34m,\u001b[0m \u001b[0my\u001b[0m\u001b[0;34m,\u001b[0m \u001b[0;34m**\u001b[0m\u001b[0mkwargs\u001b[0m\u001b[0;34m)\u001b[0m\u001b[0;34m\u001b[0m\u001b[0;34m\u001b[0m\u001b[0m\n\u001b[0m\u001b[1;32m    237\u001b[0m \u001b[0;34m\u001b[0m\u001b[0m\n\u001b[1;32m    238\u001b[0m   \u001b[0;32mdef\u001b[0m \u001b[0mpredict\u001b[0m\u001b[0;34m(\u001b[0m\u001b[0mself\u001b[0m\u001b[0;34m,\u001b[0m \u001b[0mx\u001b[0m\u001b[0;34m,\u001b[0m \u001b[0;34m**\u001b[0m\u001b[0mkwargs\u001b[0m\u001b[0;34m)\u001b[0m\u001b[0;34m:\u001b[0m\u001b[0;34m\u001b[0m\u001b[0;34m\u001b[0m\u001b[0m\n",
      "\u001b[0;32m/shared-libs/python3.7/py/lib/python3.7/site-packages/keras/wrappers/scikit_learn.py\u001b[0m in \u001b[0;36mfit\u001b[0;34m(self, x, y, **kwargs)\u001b[0m\n\u001b[1;32m    162\u001b[0m     \u001b[0mfit_args\u001b[0m\u001b[0;34m.\u001b[0m\u001b[0mupdate\u001b[0m\u001b[0;34m(\u001b[0m\u001b[0mkwargs\u001b[0m\u001b[0;34m)\u001b[0m\u001b[0;34m\u001b[0m\u001b[0;34m\u001b[0m\u001b[0m\n\u001b[1;32m    163\u001b[0m \u001b[0;34m\u001b[0m\u001b[0m\n\u001b[0;32m--> 164\u001b[0;31m     \u001b[0mhistory\u001b[0m \u001b[0;34m=\u001b[0m \u001b[0mself\u001b[0m\u001b[0;34m.\u001b[0m\u001b[0mmodel\u001b[0m\u001b[0;34m.\u001b[0m\u001b[0mfit\u001b[0m\u001b[0;34m(\u001b[0m\u001b[0mx\u001b[0m\u001b[0;34m,\u001b[0m \u001b[0my\u001b[0m\u001b[0;34m,\u001b[0m \u001b[0;34m**\u001b[0m\u001b[0mfit_args\u001b[0m\u001b[0;34m)\u001b[0m\u001b[0;34m\u001b[0m\u001b[0;34m\u001b[0m\u001b[0m\n\u001b[0m\u001b[1;32m    165\u001b[0m \u001b[0;34m\u001b[0m\u001b[0m\n\u001b[1;32m    166\u001b[0m     \u001b[0;32mreturn\u001b[0m \u001b[0mhistory\u001b[0m\u001b[0;34m\u001b[0m\u001b[0;34m\u001b[0m\u001b[0m\n",
      "\u001b[0;32m/shared-libs/python3.7/py/lib/python3.7/site-packages/keras/utils/traceback_utils.py\u001b[0m in \u001b[0;36merror_handler\u001b[0;34m(*args, **kwargs)\u001b[0m\n\u001b[1;32m     65\u001b[0m     \u001b[0;32mexcept\u001b[0m \u001b[0mException\u001b[0m \u001b[0;32mas\u001b[0m \u001b[0me\u001b[0m\u001b[0;34m:\u001b[0m  \u001b[0;31m# pylint: disable=broad-except\u001b[0m\u001b[0;34m\u001b[0m\u001b[0;34m\u001b[0m\u001b[0m\n\u001b[1;32m     66\u001b[0m       \u001b[0mfiltered_tb\u001b[0m \u001b[0;34m=\u001b[0m \u001b[0m_process_traceback_frames\u001b[0m\u001b[0;34m(\u001b[0m\u001b[0me\u001b[0m\u001b[0;34m.\u001b[0m\u001b[0m__traceback__\u001b[0m\u001b[0;34m)\u001b[0m\u001b[0;34m\u001b[0m\u001b[0;34m\u001b[0m\u001b[0m\n\u001b[0;32m---> 67\u001b[0;31m       \u001b[0;32mraise\u001b[0m \u001b[0me\u001b[0m\u001b[0;34m.\u001b[0m\u001b[0mwith_traceback\u001b[0m\u001b[0;34m(\u001b[0m\u001b[0mfiltered_tb\u001b[0m\u001b[0;34m)\u001b[0m \u001b[0;32mfrom\u001b[0m \u001b[0;32mNone\u001b[0m\u001b[0;34m\u001b[0m\u001b[0;34m\u001b[0m\u001b[0m\n\u001b[0m\u001b[1;32m     68\u001b[0m     \u001b[0;32mfinally\u001b[0m\u001b[0;34m:\u001b[0m\u001b[0;34m\u001b[0m\u001b[0;34m\u001b[0m\u001b[0m\n\u001b[1;32m     69\u001b[0m       \u001b[0;32mdel\u001b[0m \u001b[0mfiltered_tb\u001b[0m\u001b[0;34m\u001b[0m\u001b[0;34m\u001b[0m\u001b[0m\n",
      "\u001b[0;32m/shared-libs/python3.7/py/lib/python3.7/site-packages/tensorflow/python/framework/func_graph.py\u001b[0m in \u001b[0;36mautograph_handler\u001b[0;34m(*args, **kwargs)\u001b[0m\n\u001b[1;32m   1145\u001b[0m           \u001b[0;32mexcept\u001b[0m \u001b[0mException\u001b[0m \u001b[0;32mas\u001b[0m \u001b[0me\u001b[0m\u001b[0;34m:\u001b[0m  \u001b[0;31m# pylint:disable=broad-except\u001b[0m\u001b[0;34m\u001b[0m\u001b[0;34m\u001b[0m\u001b[0m\n\u001b[1;32m   1146\u001b[0m             \u001b[0;32mif\u001b[0m \u001b[0mhasattr\u001b[0m\u001b[0;34m(\u001b[0m\u001b[0me\u001b[0m\u001b[0;34m,\u001b[0m \u001b[0;34m\"ag_error_metadata\"\u001b[0m\u001b[0;34m)\u001b[0m\u001b[0;34m:\u001b[0m\u001b[0;34m\u001b[0m\u001b[0;34m\u001b[0m\u001b[0m\n\u001b[0;32m-> 1147\u001b[0;31m               \u001b[0;32mraise\u001b[0m \u001b[0me\u001b[0m\u001b[0;34m.\u001b[0m\u001b[0mag_error_metadata\u001b[0m\u001b[0;34m.\u001b[0m\u001b[0mto_exception\u001b[0m\u001b[0;34m(\u001b[0m\u001b[0me\u001b[0m\u001b[0;34m)\u001b[0m\u001b[0;34m\u001b[0m\u001b[0;34m\u001b[0m\u001b[0m\n\u001b[0m\u001b[1;32m   1148\u001b[0m             \u001b[0;32melse\u001b[0m\u001b[0;34m:\u001b[0m\u001b[0;34m\u001b[0m\u001b[0;34m\u001b[0m\u001b[0m\n\u001b[1;32m   1149\u001b[0m               \u001b[0;32mraise\u001b[0m\u001b[0;34m\u001b[0m\u001b[0;34m\u001b[0m\u001b[0m\n",
      "\u001b[0;31mValueError\u001b[0m: in user code:\n\n    File \"/shared-libs/python3.7/py/lib/python3.7/site-packages/keras/engine/training.py\", line 1021, in train_function  *\n        return step_function(self, iterator)\n    File \"/shared-libs/python3.7/py/lib/python3.7/site-packages/keras/engine/training.py\", line 1010, in step_function  **\n        outputs = model.distribute_strategy.run(run_step, args=(data,))\n    File \"/shared-libs/python3.7/py/lib/python3.7/site-packages/keras/engine/training.py\", line 1000, in run_step  **\n        outputs = model.train_step(data)\n    File \"/shared-libs/python3.7/py/lib/python3.7/site-packages/keras/engine/training.py\", line 859, in train_step\n        y_pred = self(x, training=True)\n    File \"/shared-libs/python3.7/py/lib/python3.7/site-packages/keras/utils/traceback_utils.py\", line 67, in error_handler\n        raise e.with_traceback(filtered_tb) from None\n\n    ValueError: Exception encountered when calling layer \"nn_12\" (type NN).\n    \n    in user code:\n    \n        File \"/work/LCP_modB/02-DNN/nn_model.py\", line 120, in call  *\n            x = hidden_layer(x)\n        File \"/shared-libs/python3.7/py/lib/python3.7/site-packages/keras/utils/traceback_utils.py\", line 67, in error_handler  **\n            raise e.with_traceback(filtered_tb) from None\n        File \"/shared-libs/python3.7/py/lib/python3.7/site-packages/keras/engine/input_spec.py\", line 249, in assert_input_compatibility\n            f'Input {input_index} of layer \"{layer_name}\" is '\n    \n        ValueError: Input 0 of layer \"hidden_0\" is incompatible with the layer: expected axis -1 of input shape to have value 5000, but received input with shape (100, 2)\n    \n    \n    Call arguments received:\n      • x=tf.Tensor(shape=(100, 2), dtype=float32)\n"
     ]
    }
   ]
  },
  {
   "cell_type": "markdown",
   "source": "#### tests trying to hardcode a gridsearch, gave up because of:\n- should implement also cv\n- seems that the built in function is ok with our requests",
   "metadata": {
    "cell_id": "7a022901-9400-4d16-b31a-dcd3fbfa0447",
    "tags": [],
    "deepnote_cell_type": "markdown",
    "deepnote_cell_height": 127.796875
   }
  },
  {
   "cell_type": "code",
   "metadata": {
    "cell_id": "dd3bf2c7-a597-4c1b-8597-1b14de84d2bb",
    "tags": [],
    "deepnote_cell_type": "code",
    "deepnote_cell_height": 714
   },
   "source": "n_features = x.shape[1]\n\n# NN hyperparameters\narchitecture      = [n_features, 20, 20, 1]\ndropout_arc       = [1]\ndropout_rates     = [0.2]\nbatch_norm_arc    = [2]   \ninput_dim         = architecture[0]\nhidden_activation = \"relu\"\noutput_activation = \"sigmoid\"\nname              = \"my lovely neural network\"\n\n# build the NN model\nnetwork = nn_model.NN(\n    input_dim         = input_dim,\n    architecture      = architecture,\n    dropout_layers    = dropout_arc,\n    dropout_rates     = dropout_rates,\n    batch_norm_layers = batch_norm_arc,\n    hidden_activation = hidden_activation,\n    output_activation = output_activation,\n    nn_name           = name,\n)\n\n# print summary\nnetwork.summary()\n\n# compile NN with loss, optimizer and metrics\nloss      = \"binary_crossentropy\"\noptimizer = \"adam\"\nmetrics   = [\"accuracy\"]\n\nnetwork.compile(\n    loss      = loss,\n    optimizer = optimizer,\n    metrics   = metrics,\n)",
   "execution_count": null,
   "outputs": []
  },
  {
   "cell_type": "code",
   "metadata": {
    "cell_id": "0cf390df-6143-4df8-978d-a23d8a47e958",
    "tags": [],
    "deepnote_to_be_reexecuted": false,
    "source_hash": "edc0f1a9",
    "execution_start": 1646744540623,
    "execution_millis": 8,
    "deepnote_cell_type": "code",
    "deepnote_cell_height": 135
   },
   "source": "activation_units = np.array([\"sigmoid\", \"relu\"])\nlayers           = np.array([1, 2, 3, 4])\noptimizer        = np.array([\"adam\", \"nestorov\", \"rms_prop\"])\nX, Y, Z = np.meshgrid(activation_units, layers, optimizer)",
   "execution_count": null,
   "outputs": []
  },
  {
   "cell_type": "code",
   "metadata": {
    "cell_id": "e438496d-88f9-4a70-b7b4-ef328f6922d8",
    "tags": [],
    "deepnote_to_be_reexecuted": false,
    "source_hash": "912a84d3",
    "execution_start": 1646769378298,
    "execution_millis": 3,
    "deepnote_cell_type": "code",
    "deepnote_cell_height": 153
   },
   "source": "grid_params = {}\n\ngrid_params[\"activation_units\"] = np.array([\"sigmoid\", \"relu\"])\ngrid_params[\"optimizer\"]        = np.array([\"adam\", \"nestorov\", \"rms_prop\"])\ngrid_params[\"layers\"]           = [1,2]",
   "execution_count": null,
   "outputs": []
  },
  {
   "cell_type": "code",
   "metadata": {
    "cell_id": "6b7d7e96-cd4d-436c-bb83-094d6cf3b349",
    "tags": [],
    "deepnote_to_be_reexecuted": false,
    "source_hash": "13384ffd",
    "execution_start": 1646770321185,
    "execution_millis": 12,
    "deepnote_cell_type": "code",
    "deepnote_cell_height": 368
   },
   "source": "from itertools import product\nfor params in product(*grid_params.values()):\n    print(dict(zip(grid_params.keys(), params)))",
   "execution_count": null,
   "outputs": [
    {
     "name": "stdout",
     "text": "{'activation_units': 'sigmoid', 'optimizer': 'adam', 'layers': 1}\n{'activation_units': 'sigmoid', 'optimizer': 'adam', 'layers': 2}\n{'activation_units': 'sigmoid', 'optimizer': 'nestorov', 'layers': 1}\n{'activation_units': 'sigmoid', 'optimizer': 'nestorov', 'layers': 2}\n{'activation_units': 'sigmoid', 'optimizer': 'rms_prop', 'layers': 1}\n{'activation_units': 'sigmoid', 'optimizer': 'rms_prop', 'layers': 2}\n{'activation_units': 'relu', 'optimizer': 'adam', 'layers': 1}\n{'activation_units': 'relu', 'optimizer': 'adam', 'layers': 2}\n{'activation_units': 'relu', 'optimizer': 'nestorov', 'layers': 1}\n{'activation_units': 'relu', 'optimizer': 'nestorov', 'layers': 2}\n{'activation_units': 'relu', 'optimizer': 'rms_prop', 'layers': 1}\n{'activation_units': 'relu', 'optimizer': 'rms_prop', 'layers': 2}\n",
     "output_type": "stream"
    }
   ]
  },
  {
   "cell_type": "code",
   "metadata": {
    "cell_id": "a11b7bf2-b4ca-4279-a491-3e9a08c0a40e",
    "tags": [],
    "deepnote_to_be_reexecuted": false,
    "source_hash": "eed2fe94",
    "execution_start": 1646768924256,
    "execution_millis": 6,
    "deepnote_cell_type": "code",
    "deepnote_cell_height": 150
   },
   "source": "for param_label, param_value in grid_params.items():\n    print(param_value)",
   "execution_count": null,
   "outputs": [
    {
     "name": "stdout",
     "text": "['sigmoid' 'relu']\n['adam' 'nestorov' 'rms_prop']\n",
     "output_type": "stream"
    }
   ]
  },
  {
   "cell_type": "code",
   "metadata": {
    "cell_id": "633266e8-ae64-4d20-a50b-51dcd9f0d08b",
    "tags": [],
    "deepnote_to_be_reexecuted": false,
    "source_hash": "d14ded6a",
    "execution_start": 1646769385295,
    "execution_millis": 69,
    "deepnote_cell_type": "code",
    "deepnote_cell_height": 136.1875
   },
   "source": "l = np.meshgrid(*grid_params.values())\nl[1].shape",
   "execution_count": null,
   "outputs": [
    {
     "output_type": "execute_result",
     "execution_count": 33,
     "data": {
      "text/plain": "(3, 2, 2)"
     },
     "metadata": {}
    }
   ]
  },
  {
   "cell_type": "code",
   "metadata": {
    "cell_id": "d30ed7ce-5c35-49a0-a167-8b1cb9d19e2f",
    "tags": [],
    "deepnote_to_be_reexecuted": false,
    "source_hash": "f0a2b5d0",
    "execution_start": 1646769838217,
    "execution_millis": 14,
    "deepnote_cell_type": "code",
    "deepnote_cell_height": 1062.1875
   },
   "source": "class GridSearch():\n\n    def __init__(\n        self, \n        grid_params, \n        fixed_params, \n        nn_params = [\"activation_units\", \"optimizer\", \"loss\"]\n        ):\n        \"\"\"\n        Grid Search\n\n        Arguments:\n        grid_params         [dict]    -> dict of parameters to evaluate        \n        fixed_params        [dict]    -> dict of fixed parameters of the NN model\n        nn_params           [list]    -> labels of total number of parameters for the NN model\n        \"\"\"\n        \n        self.grid_params  = grid_params\n        self.fixed_params = fixed_params\n        self.nn_params    = nn_params\n        \n        # build grid\n        self.grid         = np.meshgrid(*self.grid_params.values())\n        \n    def fit(\n        x_train,\n        y_train,\n        epochs,\n        batch_size,\n        validation_data,\n        verbose\n        ):\n        \"\"\"\n        perform the grid search\n        \"\"\"\n        \n        # save fixed parameters\n        for param_label, param_value in fixed_params.items(): \n            globals()[param_label] = param_value\n        \n        # loop over the grid -> come minchia fargli fare n nested loops con n variabile?! \n        #                       ( idea, funzione esterna (ricorsiva?))\n        \"\"\"\n        idea: go through the whole grid and perfrom a NN model fit at each point\n        \"\"\"\n        for\n\n\n\"\"\"\nadditionals: 2d plot of grid search performance given 2 params with spheres\n\n\"\"\"",
   "execution_count": null,
   "outputs": [
    {
     "output_type": "error",
     "ename": "SyntaxError",
     "evalue": "invalid syntax (<ipython-input-34-476ff68ca75c>, line 46)",
     "traceback": [
      "\u001b[0;36m  File \u001b[0;32m\"<ipython-input-34-476ff68ca75c>\"\u001b[0;36m, line \u001b[0;32m46\u001b[0m\n\u001b[0;31m    for\u001b[0m\n\u001b[0m       ^\u001b[0m\n\u001b[0;31mSyntaxError\u001b[0m\u001b[0;31m:\u001b[0m invalid syntax\n"
     ]
    }
   ]
  },
  {
   "cell_type": "code",
   "metadata": {
    "cell_id": "a57651f1-663f-4d30-8bfa-86173a9588db",
    "tags": [],
    "deepnote_to_be_reexecuted": false,
    "source_hash": "d802e110",
    "execution_start": 1646764359676,
    "execution_millis": 9,
    "deepnote_cell_type": "code",
    "deepnote_cell_height": 152
   },
   "source": "grid = GridSearch(grid_params)",
   "execution_count": null,
   "outputs": [
    {
     "name": "stdout",
     "text": "activation_units\noptimizer\n['sigmoid' 'relu']\n",
     "output_type": "stream"
    }
   ]
  },
  {
   "cell_type": "code",
   "metadata": {
    "cell_id": "a905f446-5fa2-4267-a012-2070cd270b31",
    "tags": [],
    "deepnote_cell_type": "code",
    "deepnote_cell_height": 210
   },
   "source": "# NN fixed hyperparameters \narchitecture      = [n_features, 20, 20, 1]\ndropout_arc       = [1]\ndropout_rates     = [0.2]\nbatch_norm_arc    = [2]   \ninput_dim         = architecture[0]\nhidden_activation = \"relu\"\noutput_activation = \"sigmoid\"\nname              = \"my lovely neural network\"",
   "execution_count": null,
   "outputs": []
  },
  {
   "cell_type": "markdown",
   "source": "<a style='text-decoration:none;line-height:16px;display:flex;color:#5B5B62;padding:10px;justify-content:end;' href='https://deepnote.com?utm_source=created-in-deepnote-cell&projectId=452e6836-b7b8-455e-80d9-d4109b6baddf' target=\"_blank\">\n<img alt='Created in deepnote.com' style='display:inline;max-height:16px;margin:0px;margin-right:7.5px;' src='data:image/svg+xml;base64,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' > </img>\nCreated in <span style='font-weight:600;margin-left:4px;'>Deepnote</span></a>",
   "metadata": {
    "tags": [],
    "created_in_deepnote_cell": true,
    "deepnote_cell_type": "markdown"
   }
  }
 ],
 "nbformat": 4,
 "nbformat_minor": 2,
 "metadata": {
  "orig_nbformat": 2,
  "deepnote": {
   "is_reactive": false
  },
  "deepnote_notebook_id": "496db160-91b1-4f38-85ce-224e9fd4f9e8",
  "deepnote_execution_queue": []
 }
}